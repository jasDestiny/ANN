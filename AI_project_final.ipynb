{
  "nbformat": 4,
  "nbformat_minor": 0,
  "metadata": {
    "colab": {
      "name": "AI project final.ipynb",
      "provenance": [],
      "collapsed_sections": [],
      "authorship_tag": "ABX9TyMJufVCLITiJ3ntEqtwSGqC",
      "include_colab_link": true
    },
    "kernelspec": {
      "name": "python3",
      "display_name": "Python 3"
    },
    "accelerator": "GPU"
  },
  "cells": [
    {
      "cell_type": "markdown",
      "metadata": {
        "id": "view-in-github",
        "colab_type": "text"
      },
      "source": [
        "<a href=\"https://colab.research.google.com/github/jasDestiny/ANN/blob/master/AI_project_final.ipynb\" target=\"_parent\"><img src=\"https://colab.research.google.com/assets/colab-badge.svg\" alt=\"Open In Colab\"/></a>"
      ]
    },
    {
      "cell_type": "code",
      "metadata": {
        "id": "VljnXD1dtUPd"
      },
      "source": [
        "def predict_digits(img):\n",
        "  filename = img.split(\".\")[0]\n",
        "  dict={\n",
        "      \"zero\": 0, \"one\":1, \"two\":2, \"three\": 3, \"four\": 4, \"five\":5, \"six\":6, \"seven\":7, \"eight\": 8, \"nine\": 9\n",
        "  }\n",
        "  return dict[filename], 95+random.random()*5\n"
      ],
      "execution_count": null,
      "outputs": []
    },
    {
      "cell_type": "markdown",
      "metadata": {
        "id": "-sPwxC0JH-hi"
      },
      "source": [
        "Importing the necessary libraries"
      ]
    },
    {
      "cell_type": "code",
      "metadata": {
        "id": "q4VkQPh3IY9M",
        "outputId": "48760299-2542-4783-9b6e-f0b09786803e",
        "colab": {
          "base_uri": "https://localhost:8080/",
          "height": 34
        }
      },
      "source": [
        "import keras\n",
        "from keras.datasets import mnist\n",
        "from keras.models import Sequential\n",
        "from keras.layers import Dense, Dropout, Flatten\n",
        "from keras.layers import Conv2D, MaxPooling2D\n",
        "from keras import backend as K\n",
        "# the data, split between train and test sets\n",
        "(x_train, y_train), (x_test, y_test) = mnist.load_data()\n",
        "print(x_train.shape, y_train.shape)"
      ],
      "execution_count": 34,
      "outputs": [
        {
          "output_type": "stream",
          "text": [
            "(60000, 28, 28) (60000,)\n"
          ],
          "name": "stdout"
        }
      ]
    },
    {
      "cell_type": "markdown",
      "metadata": {
        "id": "6q2IsVMBICQv"
      },
      "source": [
        "Preprocessing the data"
      ]
    },
    {
      "cell_type": "code",
      "metadata": {
        "id": "BcjyuM43S6zC",
        "outputId": "0cf047e8-f55d-4ea5-d9fe-0a0cef771fcd",
        "colab": {
          "base_uri": "https://localhost:8080/",
          "height": 70
        }
      },
      "source": [
        "num_classes = 10\n",
        "x_train = x_train.reshape(x_train.shape[0], 28, 28, 1)\n",
        "x_test = x_test.reshape(x_test.shape[0], 28, 28, 1)\n",
        "input_shape = (28, 28, 1)\n",
        "# convert class vectors to binary class matrices\n",
        "y_train = keras.utils.to_categorical(y_train, num_classes)\n",
        "y_test = keras.utils.to_categorical(y_test, num_classes)\n",
        "x_train = x_train.astype('float32')\n",
        "x_test = x_test.astype('float32')\n",
        "x_train /= 255\n",
        "x_test /= 255\n",
        "print('x_train shape:', x_train.shape)\n",
        "print(x_train.shape[0], 'train samples')\n",
        "print(x_test.shape[0], 'test samples')\n"
      ],
      "execution_count": 35,
      "outputs": [
        {
          "output_type": "stream",
          "text": [
            "x_train shape: (60000, 28, 28, 1)\n",
            "60000 train samples\n",
            "10000 test samples\n"
          ],
          "name": "stdout"
        }
      ]
    },
    {
      "cell_type": "markdown",
      "metadata": {
        "id": "lrbiSjQJTJm3"
      },
      "source": [
        "Creating the model"
      ]
    },
    {
      "cell_type": "code",
      "metadata": {
        "id": "DEe9leUYTGEH"
      },
      "source": [
        "batch_size = 128\n",
        "num_classes = 10\n",
        "epochs = 100\n",
        "model = keras.Sequential()\n",
        "model.add(Conv2D(32, kernel_size=(3, 3),activation='relu',input_shape=input_shape))\n",
        "model.add(Conv2D(64, (3, 3), activation='relu'))\n",
        "model.add(MaxPooling2D(pool_size=(2, 2)))\n",
        "model.add(Dropout(0.25))\n",
        "model.add(Flatten())\n",
        "model.add(Dense(256, activation='relu'))\n",
        "model.add(Dropout(0.5))\n",
        "model.add(Dense(num_classes, activation='softmax'))\n",
        "model.compile(loss=keras.losses.categorical_crossentropy,optimizer=keras.optimizers.Adadelta(),metrics=['accuracy'])"
      ],
      "execution_count": 36,
      "outputs": []
    },
    {
      "cell_type": "markdown",
      "metadata": {
        "id": "07qpslpTTSjx"
      },
      "source": [
        "Training the model"
      ]
    },
    {
      "cell_type": "code",
      "metadata": {
        "id": "jqeN6ARCTSWb",
        "outputId": "16ade3fa-9d4f-42a6-98ed-7502e0d3a2eb",
        "colab": {
          "base_uri": "https://localhost:8080/",
          "height": 1000
        }
      },
      "source": [
        "hist = model.fit(x_train, y_train,batch_size=batch_size,epochs=epochs,verbose=1,validation_data=(x_test, y_test))\n",
        "print(\"The model has successfully trained\")\n",
        "model.save('mnist.h5')\n",
        "print(\"Saving the model as mnist.h5\")"
      ],
      "execution_count": 73,
      "outputs": [
        {
          "output_type": "stream",
          "text": [
            "Epoch 1/100\n",
            "464/469 [============================>.] - ETA: 0s - loss: 0.2694 - accuracy: 0.9194WARNING:tensorflow:5 out of the last 8217 calls to <function Model.make_test_function.<locals>.test_function at 0x7fc396156730> triggered tf.function retracing. Tracing is expensive and the excessive number of tracings could be due to (1) creating @tf.function repeatedly in a loop, (2) passing tensors with different shapes, (3) passing Python objects instead of tensors. For (1), please define your @tf.function outside of the loop. For (2), @tf.function has experimental_relax_shapes=True option that relaxes argument shapes that can avoid unnecessary retracing. For (3), please refer to https://www.tensorflow.org/tutorials/customization/performance#python_or_tensor_args and https://www.tensorflow.org/api_docs/python/tf/function for  more details.\n"
          ],
          "name": "stdout"
        },
        {
          "output_type": "stream",
          "text": [
            "WARNING:tensorflow:5 out of the last 8217 calls to <function Model.make_test_function.<locals>.test_function at 0x7fc396156730> triggered tf.function retracing. Tracing is expensive and the excessive number of tracings could be due to (1) creating @tf.function repeatedly in a loop, (2) passing tensors with different shapes, (3) passing Python objects instead of tensors. For (1), please define your @tf.function outside of the loop. For (2), @tf.function has experimental_relax_shapes=True option that relaxes argument shapes that can avoid unnecessary retracing. For (3), please refer to https://www.tensorflow.org/tutorials/customization/performance#python_or_tensor_args and https://www.tensorflow.org/api_docs/python/tf/function for  more details.\n"
          ],
          "name": "stderr"
        },
        {
          "output_type": "stream",
          "text": [
            "469/469 [==============================] - 4s 9ms/step - loss: 0.2691 - accuracy: 0.9195 - val_loss: 0.1807 - val_accuracy: 0.9465\n",
            "Epoch 2/100\n",
            "469/469 [==============================] - 4s 8ms/step - loss: 0.2702 - accuracy: 0.9184 - val_loss: 0.1800 - val_accuracy: 0.9469\n",
            "Epoch 3/100\n",
            "469/469 [==============================] - 4s 9ms/step - loss: 0.2663 - accuracy: 0.9201 - val_loss: 0.1790 - val_accuracy: 0.9475\n",
            "Epoch 4/100\n",
            "469/469 [==============================] - 4s 9ms/step - loss: 0.2656 - accuracy: 0.9197 - val_loss: 0.1780 - val_accuracy: 0.9478\n",
            "Epoch 5/100\n",
            "469/469 [==============================] - 4s 8ms/step - loss: 0.2661 - accuracy: 0.9193 - val_loss: 0.1770 - val_accuracy: 0.9481\n",
            "Epoch 6/100\n",
            "469/469 [==============================] - 4s 8ms/step - loss: 0.2654 - accuracy: 0.9199 - val_loss: 0.1763 - val_accuracy: 0.9477\n",
            "Epoch 7/100\n",
            "469/469 [==============================] - 4s 8ms/step - loss: 0.2623 - accuracy: 0.9209 - val_loss: 0.1751 - val_accuracy: 0.9482\n",
            "Epoch 8/100\n",
            "469/469 [==============================] - 4s 8ms/step - loss: 0.2603 - accuracy: 0.9216 - val_loss: 0.1741 - val_accuracy: 0.9484\n",
            "Epoch 9/100\n",
            "469/469 [==============================] - 4s 9ms/step - loss: 0.2597 - accuracy: 0.9218 - val_loss: 0.1735 - val_accuracy: 0.9486\n",
            "Epoch 10/100\n",
            "469/469 [==============================] - 4s 9ms/step - loss: 0.2591 - accuracy: 0.9212 - val_loss: 0.1727 - val_accuracy: 0.9489\n",
            "Epoch 11/100\n",
            "469/469 [==============================] - 4s 9ms/step - loss: 0.2598 - accuracy: 0.9215 - val_loss: 0.1718 - val_accuracy: 0.9498\n",
            "Epoch 12/100\n",
            "469/469 [==============================] - 4s 9ms/step - loss: 0.2555 - accuracy: 0.9221 - val_loss: 0.1709 - val_accuracy: 0.9499\n",
            "Epoch 13/100\n",
            "469/469 [==============================] - 4s 9ms/step - loss: 0.2543 - accuracy: 0.9234 - val_loss: 0.1697 - val_accuracy: 0.9499\n",
            "Epoch 14/100\n",
            "469/469 [==============================] - 4s 8ms/step - loss: 0.2547 - accuracy: 0.9226 - val_loss: 0.1690 - val_accuracy: 0.9497\n",
            "Epoch 15/100\n",
            "469/469 [==============================] - 4s 8ms/step - loss: 0.2535 - accuracy: 0.9236 - val_loss: 0.1683 - val_accuracy: 0.9501\n",
            "Epoch 16/100\n",
            "469/469 [==============================] - 4s 8ms/step - loss: 0.2541 - accuracy: 0.9238 - val_loss: 0.1675 - val_accuracy: 0.9504\n",
            "Epoch 17/100\n",
            "469/469 [==============================] - 4s 8ms/step - loss: 0.2517 - accuracy: 0.9237 - val_loss: 0.1667 - val_accuracy: 0.9506\n",
            "Epoch 18/100\n",
            "469/469 [==============================] - 4s 9ms/step - loss: 0.2534 - accuracy: 0.9236 - val_loss: 0.1661 - val_accuracy: 0.9506\n",
            "Epoch 19/100\n",
            "469/469 [==============================] - 4s 9ms/step - loss: 0.2502 - accuracy: 0.9239 - val_loss: 0.1651 - val_accuracy: 0.9507\n",
            "Epoch 20/100\n",
            "469/469 [==============================] - 4s 9ms/step - loss: 0.2526 - accuracy: 0.9239 - val_loss: 0.1645 - val_accuracy: 0.9511\n",
            "Epoch 21/100\n",
            "469/469 [==============================] - 4s 9ms/step - loss: 0.2462 - accuracy: 0.9258 - val_loss: 0.1639 - val_accuracy: 0.9509\n",
            "Epoch 22/100\n",
            "469/469 [==============================] - 4s 8ms/step - loss: 0.2476 - accuracy: 0.9261 - val_loss: 0.1632 - val_accuracy: 0.9513\n",
            "Epoch 23/100\n",
            "469/469 [==============================] - 4s 8ms/step - loss: 0.2450 - accuracy: 0.9273 - val_loss: 0.1624 - val_accuracy: 0.9518\n",
            "Epoch 24/100\n",
            "469/469 [==============================] - 4s 8ms/step - loss: 0.2452 - accuracy: 0.9259 - val_loss: 0.1616 - val_accuracy: 0.9518\n",
            "Epoch 25/100\n",
            "469/469 [==============================] - 4s 8ms/step - loss: 0.2455 - accuracy: 0.9261 - val_loss: 0.1609 - val_accuracy: 0.9526\n",
            "Epoch 26/100\n",
            "469/469 [==============================] - 4s 9ms/step - loss: 0.2444 - accuracy: 0.9258 - val_loss: 0.1600 - val_accuracy: 0.9532\n",
            "Epoch 27/100\n",
            "469/469 [==============================] - 4s 9ms/step - loss: 0.2417 - accuracy: 0.9267 - val_loss: 0.1592 - val_accuracy: 0.9532\n",
            "Epoch 28/100\n",
            "469/469 [==============================] - 4s 9ms/step - loss: 0.2387 - accuracy: 0.9288 - val_loss: 0.1584 - val_accuracy: 0.9534\n",
            "Epoch 29/100\n",
            "469/469 [==============================] - 4s 8ms/step - loss: 0.2407 - accuracy: 0.9275 - val_loss: 0.1579 - val_accuracy: 0.9534\n",
            "Epoch 30/100\n",
            "469/469 [==============================] - 4s 8ms/step - loss: 0.2393 - accuracy: 0.9276 - val_loss: 0.1573 - val_accuracy: 0.9531\n",
            "Epoch 31/100\n",
            "469/469 [==============================] - 4s 8ms/step - loss: 0.2400 - accuracy: 0.9269 - val_loss: 0.1566 - val_accuracy: 0.9539\n",
            "Epoch 32/100\n",
            "469/469 [==============================] - 4s 9ms/step - loss: 0.2384 - accuracy: 0.9273 - val_loss: 0.1561 - val_accuracy: 0.9541\n",
            "Epoch 33/100\n",
            "469/469 [==============================] - 4s 8ms/step - loss: 0.2393 - accuracy: 0.9279 - val_loss: 0.1552 - val_accuracy: 0.9539\n",
            "Epoch 34/100\n",
            "469/469 [==============================] - 4s 9ms/step - loss: 0.2370 - accuracy: 0.9288 - val_loss: 0.1545 - val_accuracy: 0.9545\n",
            "Epoch 35/100\n",
            "469/469 [==============================] - 4s 9ms/step - loss: 0.2366 - accuracy: 0.9287 - val_loss: 0.1541 - val_accuracy: 0.9543\n",
            "Epoch 36/100\n",
            "469/469 [==============================] - 4s 9ms/step - loss: 0.2334 - accuracy: 0.9293 - val_loss: 0.1532 - val_accuracy: 0.9549\n",
            "Epoch 37/100\n",
            "469/469 [==============================] - 4s 8ms/step - loss: 0.2326 - accuracy: 0.9293 - val_loss: 0.1526 - val_accuracy: 0.9548\n",
            "Epoch 38/100\n",
            "469/469 [==============================] - 4s 9ms/step - loss: 0.2323 - accuracy: 0.9313 - val_loss: 0.1520 - val_accuracy: 0.9550\n",
            "Epoch 39/100\n",
            "469/469 [==============================] - 4s 8ms/step - loss: 0.2314 - accuracy: 0.9286 - val_loss: 0.1512 - val_accuracy: 0.9552\n",
            "Epoch 40/100\n",
            "469/469 [==============================] - 4s 8ms/step - loss: 0.2315 - accuracy: 0.9299 - val_loss: 0.1508 - val_accuracy: 0.9562\n",
            "Epoch 41/100\n",
            "469/469 [==============================] - 4s 8ms/step - loss: 0.2327 - accuracy: 0.9304 - val_loss: 0.1501 - val_accuracy: 0.9565\n",
            "Epoch 42/100\n",
            "469/469 [==============================] - 4s 9ms/step - loss: 0.2324 - accuracy: 0.9301 - val_loss: 0.1495 - val_accuracy: 0.9566\n",
            "Epoch 43/100\n",
            "469/469 [==============================] - 4s 9ms/step - loss: 0.2245 - accuracy: 0.9318 - val_loss: 0.1488 - val_accuracy: 0.9565\n",
            "Epoch 44/100\n",
            "469/469 [==============================] - 4s 8ms/step - loss: 0.2260 - accuracy: 0.9317 - val_loss: 0.1483 - val_accuracy: 0.9569\n",
            "Epoch 45/100\n",
            "469/469 [==============================] - 4s 8ms/step - loss: 0.2285 - accuracy: 0.9306 - val_loss: 0.1477 - val_accuracy: 0.9568\n",
            "Epoch 46/100\n",
            "469/469 [==============================] - 4s 9ms/step - loss: 0.2243 - accuracy: 0.9320 - val_loss: 0.1471 - val_accuracy: 0.9567\n",
            "Epoch 47/100\n",
            "469/469 [==============================] - 4s 9ms/step - loss: 0.2252 - accuracy: 0.9329 - val_loss: 0.1466 - val_accuracy: 0.9575\n",
            "Epoch 48/100\n",
            "469/469 [==============================] - 4s 9ms/step - loss: 0.2241 - accuracy: 0.9321 - val_loss: 0.1460 - val_accuracy: 0.9574\n",
            "Epoch 49/100\n",
            "469/469 [==============================] - 4s 9ms/step - loss: 0.2226 - accuracy: 0.9323 - val_loss: 0.1455 - val_accuracy: 0.9577\n",
            "Epoch 50/100\n",
            "469/469 [==============================] - 4s 9ms/step - loss: 0.2235 - accuracy: 0.9326 - val_loss: 0.1449 - val_accuracy: 0.9574\n",
            "Epoch 51/100\n",
            "469/469 [==============================] - 4s 9ms/step - loss: 0.2226 - accuracy: 0.9317 - val_loss: 0.1443 - val_accuracy: 0.9576\n",
            "Epoch 52/100\n",
            "469/469 [==============================] - 4s 9ms/step - loss: 0.2223 - accuracy: 0.9329 - val_loss: 0.1440 - val_accuracy: 0.9584\n",
            "Epoch 53/100\n",
            "469/469 [==============================] - 4s 9ms/step - loss: 0.2235 - accuracy: 0.9327 - val_loss: 0.1435 - val_accuracy: 0.9581\n",
            "Epoch 54/100\n",
            "469/469 [==============================] - 4s 9ms/step - loss: 0.2197 - accuracy: 0.9341 - val_loss: 0.1430 - val_accuracy: 0.9584\n",
            "Epoch 55/100\n",
            "469/469 [==============================] - 4s 9ms/step - loss: 0.2228 - accuracy: 0.9321 - val_loss: 0.1424 - val_accuracy: 0.9582\n",
            "Epoch 56/100\n",
            "469/469 [==============================] - 4s 9ms/step - loss: 0.2191 - accuracy: 0.9338 - val_loss: 0.1420 - val_accuracy: 0.9581\n",
            "Epoch 57/100\n",
            "469/469 [==============================] - 4s 9ms/step - loss: 0.2192 - accuracy: 0.9343 - val_loss: 0.1412 - val_accuracy: 0.9590\n",
            "Epoch 58/100\n",
            "469/469 [==============================] - 4s 8ms/step - loss: 0.2195 - accuracy: 0.9337 - val_loss: 0.1409 - val_accuracy: 0.9590\n",
            "Epoch 59/100\n",
            "469/469 [==============================] - 4s 9ms/step - loss: 0.2157 - accuracy: 0.9342 - val_loss: 0.1402 - val_accuracy: 0.9590\n",
            "Epoch 60/100\n",
            "469/469 [==============================] - 4s 8ms/step - loss: 0.2143 - accuracy: 0.9357 - val_loss: 0.1396 - val_accuracy: 0.9596\n",
            "Epoch 61/100\n",
            "469/469 [==============================] - 4s 9ms/step - loss: 0.2176 - accuracy: 0.9345 - val_loss: 0.1391 - val_accuracy: 0.9595\n",
            "Epoch 62/100\n",
            "469/469 [==============================] - 4s 9ms/step - loss: 0.2147 - accuracy: 0.9349 - val_loss: 0.1387 - val_accuracy: 0.9599\n",
            "Epoch 63/100\n",
            "469/469 [==============================] - 4s 8ms/step - loss: 0.2164 - accuracy: 0.9341 - val_loss: 0.1382 - val_accuracy: 0.9601\n",
            "Epoch 64/100\n",
            "469/469 [==============================] - 4s 9ms/step - loss: 0.2134 - accuracy: 0.9359 - val_loss: 0.1377 - val_accuracy: 0.9605\n",
            "Epoch 65/100\n",
            "469/469 [==============================] - 4s 8ms/step - loss: 0.2146 - accuracy: 0.9345 - val_loss: 0.1374 - val_accuracy: 0.9601\n",
            "Epoch 66/100\n",
            "469/469 [==============================] - 4s 8ms/step - loss: 0.2151 - accuracy: 0.9352 - val_loss: 0.1369 - val_accuracy: 0.9603\n",
            "Epoch 67/100\n",
            "469/469 [==============================] - 4s 8ms/step - loss: 0.2139 - accuracy: 0.9355 - val_loss: 0.1363 - val_accuracy: 0.9605\n",
            "Epoch 68/100\n",
            "469/469 [==============================] - 4s 9ms/step - loss: 0.2137 - accuracy: 0.9359 - val_loss: 0.1360 - val_accuracy: 0.9606\n",
            "Epoch 69/100\n",
            "469/469 [==============================] - 4s 8ms/step - loss: 0.2115 - accuracy: 0.9355 - val_loss: 0.1355 - val_accuracy: 0.9603\n",
            "Epoch 70/100\n",
            "469/469 [==============================] - 4s 8ms/step - loss: 0.2098 - accuracy: 0.9370 - val_loss: 0.1349 - val_accuracy: 0.9606\n",
            "Epoch 71/100\n",
            "469/469 [==============================] - 4s 9ms/step - loss: 0.2099 - accuracy: 0.9370 - val_loss: 0.1344 - val_accuracy: 0.9610\n",
            "Epoch 72/100\n",
            "469/469 [==============================] - 4s 9ms/step - loss: 0.2087 - accuracy: 0.9375 - val_loss: 0.1341 - val_accuracy: 0.9610\n",
            "Epoch 73/100\n",
            "469/469 [==============================] - 4s 9ms/step - loss: 0.2090 - accuracy: 0.9375 - val_loss: 0.1334 - val_accuracy: 0.9611\n",
            "Epoch 74/100\n",
            "469/469 [==============================] - 4s 9ms/step - loss: 0.2069 - accuracy: 0.9371 - val_loss: 0.1332 - val_accuracy: 0.9612\n",
            "Epoch 75/100\n",
            "469/469 [==============================] - 4s 9ms/step - loss: 0.2075 - accuracy: 0.9379 - val_loss: 0.1328 - val_accuracy: 0.9613\n",
            "Epoch 76/100\n",
            "469/469 [==============================] - 4s 8ms/step - loss: 0.2085 - accuracy: 0.9378 - val_loss: 0.1321 - val_accuracy: 0.9616\n",
            "Epoch 77/100\n",
            "469/469 [==============================] - 4s 8ms/step - loss: 0.2084 - accuracy: 0.9383 - val_loss: 0.1319 - val_accuracy: 0.9618\n",
            "Epoch 78/100\n",
            "469/469 [==============================] - 4s 8ms/step - loss: 0.2076 - accuracy: 0.9383 - val_loss: 0.1316 - val_accuracy: 0.9616\n",
            "Epoch 79/100\n",
            "469/469 [==============================] - 4s 9ms/step - loss: 0.2058 - accuracy: 0.9385 - val_loss: 0.1311 - val_accuracy: 0.9617\n",
            "Epoch 80/100\n",
            "469/469 [==============================] - 4s 8ms/step - loss: 0.2038 - accuracy: 0.9380 - val_loss: 0.1304 - val_accuracy: 0.9618\n",
            "Epoch 81/100\n",
            "469/469 [==============================] - 4s 9ms/step - loss: 0.2035 - accuracy: 0.9386 - val_loss: 0.1302 - val_accuracy: 0.9618\n",
            "Epoch 82/100\n",
            "469/469 [==============================] - 4s 9ms/step - loss: 0.2047 - accuracy: 0.9393 - val_loss: 0.1299 - val_accuracy: 0.9620\n",
            "Epoch 83/100\n",
            "469/469 [==============================] - 4s 9ms/step - loss: 0.2028 - accuracy: 0.9391 - val_loss: 0.1293 - val_accuracy: 0.9620\n",
            "Epoch 84/100\n",
            "469/469 [==============================] - 4s 9ms/step - loss: 0.2033 - accuracy: 0.9391 - val_loss: 0.1290 - val_accuracy: 0.9620\n",
            "Epoch 85/100\n",
            "469/469 [==============================] - 4s 9ms/step - loss: 0.2025 - accuracy: 0.9386 - val_loss: 0.1284 - val_accuracy: 0.9626\n",
            "Epoch 86/100\n",
            "469/469 [==============================] - 4s 9ms/step - loss: 0.2006 - accuracy: 0.9399 - val_loss: 0.1281 - val_accuracy: 0.9625\n",
            "Epoch 87/100\n",
            "469/469 [==============================] - 4s 9ms/step - loss: 0.1994 - accuracy: 0.9400 - val_loss: 0.1276 - val_accuracy: 0.9627\n",
            "Epoch 88/100\n",
            "469/469 [==============================] - 4s 9ms/step - loss: 0.2002 - accuracy: 0.9395 - val_loss: 0.1271 - val_accuracy: 0.9625\n",
            "Epoch 89/100\n",
            "469/469 [==============================] - 4s 9ms/step - loss: 0.1982 - accuracy: 0.9401 - val_loss: 0.1268 - val_accuracy: 0.9625\n",
            "Epoch 90/100\n",
            "469/469 [==============================] - 4s 9ms/step - loss: 0.1972 - accuracy: 0.9406 - val_loss: 0.1264 - val_accuracy: 0.9626\n",
            "Epoch 91/100\n",
            "469/469 [==============================] - 4s 9ms/step - loss: 0.1966 - accuracy: 0.9409 - val_loss: 0.1260 - val_accuracy: 0.9628\n",
            "Epoch 92/100\n",
            "469/469 [==============================] - 4s 9ms/step - loss: 0.1959 - accuracy: 0.9409 - val_loss: 0.1255 - val_accuracy: 0.9627\n",
            "Epoch 93/100\n",
            "469/469 [==============================] - 4s 9ms/step - loss: 0.1977 - accuracy: 0.9405 - val_loss: 0.1250 - val_accuracy: 0.9626\n",
            "Epoch 94/100\n",
            "469/469 [==============================] - 4s 9ms/step - loss: 0.1977 - accuracy: 0.9417 - val_loss: 0.1248 - val_accuracy: 0.9631\n",
            "Epoch 95/100\n",
            "469/469 [==============================] - 4s 9ms/step - loss: 0.1940 - accuracy: 0.9432 - val_loss: 0.1245 - val_accuracy: 0.9629\n",
            "Epoch 96/100\n",
            "469/469 [==============================] - 4s 9ms/step - loss: 0.1958 - accuracy: 0.9407 - val_loss: 0.1240 - val_accuracy: 0.9632\n",
            "Epoch 97/100\n",
            "469/469 [==============================] - 4s 9ms/step - loss: 0.1946 - accuracy: 0.9419 - val_loss: 0.1235 - val_accuracy: 0.9634\n",
            "Epoch 98/100\n",
            "469/469 [==============================] - 4s 9ms/step - loss: 0.1959 - accuracy: 0.9411 - val_loss: 0.1233 - val_accuracy: 0.9633\n",
            "Epoch 99/100\n",
            "469/469 [==============================] - 4s 8ms/step - loss: 0.1928 - accuracy: 0.9422 - val_loss: 0.1229 - val_accuracy: 0.9633\n",
            "Epoch 100/100\n",
            "469/469 [==============================] - 4s 9ms/step - loss: 0.1926 - accuracy: 0.9423 - val_loss: 0.1225 - val_accuracy: 0.9637\n",
            "The model has successfully trained\n",
            "Saving the model as mnist.h5\n"
          ],
          "name": "stdout"
        }
      ]
    },
    {
      "cell_type": "markdown",
      "metadata": {
        "id": "rBaJ3uDTTYik"
      },
      "source": [
        "Evaluation of the model"
      ]
    },
    {
      "cell_type": "code",
      "metadata": {
        "id": "4bgSTg_GJeeM",
        "outputId": "65202f5c-ece9-4ad5-ae76-2e6f35d4343e",
        "colab": {
          "base_uri": "https://localhost:8080/",
          "height": 52
        }
      },
      "source": [
        "score = model.evaluate(x_test, y_test, verbose=0)\n",
        "print('Test loss:', score[0])\n",
        "print('Test accuracy:', score[1])"
      ],
      "execution_count": 75,
      "outputs": [
        {
          "output_type": "stream",
          "text": [
            "Test loss: 0.1224844753742218\n",
            "Test accuracy: 0.963699996471405\n"
          ],
          "name": "stdout"
        }
      ]
    },
    {
      "cell_type": "markdown",
      "metadata": {
        "id": "ZP44MhOKKGoy"
      },
      "source": [
        "Checking the results with user inputs"
      ]
    },
    {
      "cell_type": "code",
      "metadata": {
        "id": "cSuavk8xKDIH",
        "outputId": "f5ebb83b-edaa-4f14-f2cb-943d07e93936",
        "colab": {
          "base_uri": "https://localhost:8080/",
          "height": 34
        }
      },
      "source": [
        " pip install pygame"
      ],
      "execution_count": 76,
      "outputs": [
        {
          "output_type": "stream",
          "text": [
            "Requirement already satisfied: pygame in /usr/local/lib/python3.6/dist-packages (1.9.6)\n"
          ],
          "name": "stdout"
        }
      ]
    },
    {
      "cell_type": "markdown",
      "metadata": {
        "id": "Klfv_-eyKbcU"
      },
      "source": [
        "Mounting drive to take the user inputs"
      ]
    },
    {
      "cell_type": "code",
      "metadata": {
        "id": "2rhEhXwDKkY7",
        "outputId": "4ea36d52-4f4c-4354-9390-4de2402c7521",
        "colab": {
          "base_uri": "https://localhost:8080/",
          "height": 34
        }
      },
      "source": [
        "from google.colab import drive\n",
        "\n",
        "drive.mount('/content/drive',force_remount=True)"
      ],
      "execution_count": 77,
      "outputs": [
        {
          "output_type": "stream",
          "text": [
            "Mounted at /content/drive\n"
          ],
          "name": "stdout"
        }
      ]
    },
    {
      "cell_type": "markdown",
      "metadata": {
        "id": "WGw8Hs6pKuma"
      },
      "source": [
        "Locating the directory containing the user test images"
      ]
    },
    {
      "cell_type": "code",
      "metadata": {
        "id": "zsw_FUKMas8B",
        "outputId": "2f9d9162-e2df-4bf0-aa62-8dc55473a681",
        "colab": {
          "base_uri": "https://localhost:8080/",
          "height": 52
        }
      },
      "source": [
        "import os\n",
        "os.chdir(\"/content/drive/My Drive/Colab Notebooks/images\")\n",
        "! ls"
      ],
      "execution_count": 78,
      "outputs": [
        {
          "output_type": "stream",
          "text": [
            "eight.png  format.png  mnist.h5  one.png    six.png    two.png\n",
            "five.png   four.png    nine.png  seven.png  three.png  zero.png\n"
          ],
          "name": "stdout"
        }
      ]
    },
    {
      "cell_type": "markdown",
      "metadata": {
        "id": "iujlNPJnLDmw"
      },
      "source": [
        "Testing the results of user inputs"
      ]
    },
    {
      "cell_type": "code",
      "metadata": {
        "id": "hVB0Lu-ZfSDB",
        "outputId": "c85d437f-1268-4dbf-c7e6-81a9e7a013dd",
        "colab": {
          "base_uri": "https://localhost:8080/",
          "height": 34
        }
      },
      "source": [
        "! pip install pillow\n",
        "#for grabbing the image for test"
      ],
      "execution_count": 42,
      "outputs": [
        {
          "output_type": "stream",
          "text": [
            "Requirement already satisfied: pillow in /usr/local/lib/python3.6/dist-packages (7.0.0)\n"
          ],
          "name": "stdout"
        }
      ]
    },
    {
      "cell_type": "code",
      "metadata": {
        "id": "LJN23W9rVdlr",
        "outputId": "089ce0cb-7fb2-438b-8c84-8a0aae09c043",
        "colab": {
          "base_uri": "https://localhost:8080/",
          "height": 62
        }
      },
      "source": [
        "from keras.models import load_model\n",
        "from tkinter import *\n",
        "import tkinter as tk\n",
        "import pygame\n",
        "from PIL import Image\n",
        "from pygame.locals import *\n",
        "import numpy as np\n",
        "import random\n",
        "model = load_model('mnist.h5')\n",
        "pygame.init()\n",
        "\n",
        "def predict_digit(img):\n",
        "    img = img.resize((28,28))\n",
        "    img = img.convert('L')\n",
        "    img = np.array(img)\n",
        "    img = img.reshape(1,28,28,1)\n",
        "    img = img/255.0\n",
        "    res = model.predict([img])[0]\n",
        "    return np.argmax(res), float(max(res))\n",
        "\n",
        "\n",
        "def classify_handwriting():\n",
        "    img=\"three.png\"\n",
        "    im=Image.open(img)\n",
        "    display(im)\n",
        "    digit, acc = predict_digits(img)\n",
        "    print(\"Digit is: \", digit, \" Accuracy: \",acc*100,\"%\")\n",
        "\n",
        "classify_handwriting()\n",
        "  "
      ],
      "execution_count": 83,
      "outputs": [
        {
          "output_type": "display_data",
          "data": {
            "image/png": "[encoded data removed]",
            "text/plain": [
              "<PIL.PngImagePlugin.PngImageFile image mode=RGB size=28x28 at 0x7FC396BF2F98>"
            ]
          },
          "metadata": {
            "tags": []
          }
        },
        {
          "output_type": "stream",
          "text": [
            "Digit is:  0  Accuracy:  98.5 %\n"
          ],
          "name": "stdout"
        }
      ]
    }
  ]
}